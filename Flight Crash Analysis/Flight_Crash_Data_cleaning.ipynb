{
 "cells": [
  {
   "cell_type": "markdown",
   "id": "8a13ee70-db06-4a79-90bf-d406e54ae161",
   "metadata": {},
   "source": [
    "# Importing necessary libraries"
   ]
  },
  {
   "cell_type": "code",
   "execution_count": 2,
   "id": "5c867588-f033-48c4-b898-49b8522fb985",
   "metadata": {},
   "outputs": [],
   "source": [
    "import numpy as np\n",
    "import pandas as pd\n",
    "import warnings as wn\n",
    "wn.filterwarnings('ignore')"
   ]
  },
  {
   "cell_type": "markdown",
   "id": "abd673f5-9769-4c4e-a28f-9bcffc7d8e95",
   "metadata": {},
   "source": [
    "# Loading Dataset"
   ]
  },
  {
   "cell_type": "code",
   "execution_count": 4,
   "id": "168aaf74-8d45-4b06-b49b-6356dafae687",
   "metadata": {},
   "outputs": [
    {
     "data": {
      "text/html": [
       "<div>\n",
       "<style scoped>\n",
       "    .dataframe tbody tr th:only-of-type {\n",
       "        vertical-align: middle;\n",
       "    }\n",
       "\n",
       "    .dataframe tbody tr th {\n",
       "        vertical-align: top;\n",
       "    }\n",
       "\n",
       "    .dataframe thead th {\n",
       "        text-align: right;\n",
       "    }\n",
       "</style>\n",
       "<table border=\"1\" class=\"dataframe\">\n",
       "  <thead>\n",
       "    <tr style=\"text-align: right;\">\n",
       "      <th></th>\n",
       "      <th>Unnamed: 0</th>\n",
       "      <th>acc.date</th>\n",
       "      <th>type</th>\n",
       "      <th>reg</th>\n",
       "      <th>operator</th>\n",
       "      <th>fat</th>\n",
       "      <th>location</th>\n",
       "      <th>dmg</th>\n",
       "    </tr>\n",
       "  </thead>\n",
       "  <tbody>\n",
       "    <tr>\n",
       "      <th>0</th>\n",
       "      <td>0</td>\n",
       "      <td>3 Jan 2022</td>\n",
       "      <td>British Aerospace 4121 Jetstream 41</td>\n",
       "      <td>ZS-NRJ</td>\n",
       "      <td>SA Airlink</td>\n",
       "      <td>0</td>\n",
       "      <td>near Venetia Mine Airport</td>\n",
       "      <td>sub</td>\n",
       "    </tr>\n",
       "    <tr>\n",
       "      <th>1</th>\n",
       "      <td>1</td>\n",
       "      <td>4 Jan 2022</td>\n",
       "      <td>British Aerospace 3101 Jetstream 31</td>\n",
       "      <td>HR-AYY</td>\n",
       "      <td>LANHSA - Línea Aérea Nacional de Honduras S.A</td>\n",
       "      <td>0</td>\n",
       "      <td>Roatán-Juan Manuel Gálvez International Airpor...</td>\n",
       "      <td>sub</td>\n",
       "    </tr>\n",
       "    <tr>\n",
       "      <th>2</th>\n",
       "      <td>2</td>\n",
       "      <td>5 Jan 2022</td>\n",
       "      <td>Boeing 737-4H6</td>\n",
       "      <td>EP-CAP</td>\n",
       "      <td>Caspian Airlines</td>\n",
       "      <td>0</td>\n",
       "      <td>Isfahan-Shahid Beheshti Airport (IFN)</td>\n",
       "      <td>sub</td>\n",
       "    </tr>\n",
       "    <tr>\n",
       "      <th>3</th>\n",
       "      <td>3</td>\n",
       "      <td>8 Jan 2022</td>\n",
       "      <td>Tupolev Tu-204-100C</td>\n",
       "      <td>RA-64032</td>\n",
       "      <td>Cainiao, opb Aviastar-TU</td>\n",
       "      <td>0</td>\n",
       "      <td>Hangzhou Xiaoshan International Airport (HGH)</td>\n",
       "      <td>w/o</td>\n",
       "    </tr>\n",
       "    <tr>\n",
       "      <th>4</th>\n",
       "      <td>4</td>\n",
       "      <td>12 Jan 2022</td>\n",
       "      <td>Beechcraft 200 Super King Air</td>\n",
       "      <td>NaN</td>\n",
       "      <td>private</td>\n",
       "      <td>0</td>\n",
       "      <td>Machakilha, Toledo District, Grahem Creek area</td>\n",
       "      <td>w/o</td>\n",
       "    </tr>\n",
       "    <tr>\n",
       "      <th>...</th>\n",
       "      <td>...</td>\n",
       "      <td>...</td>\n",
       "      <td>...</td>\n",
       "      <td>...</td>\n",
       "      <td>...</td>\n",
       "      <td>...</td>\n",
       "      <td>...</td>\n",
       "      <td>...</td>\n",
       "    </tr>\n",
       "    <tr>\n",
       "      <th>2495</th>\n",
       "      <td>1245</td>\n",
       "      <td>20 Dec 2018</td>\n",
       "      <td>Cessna 560 Citation V</td>\n",
       "      <td>N188CW</td>\n",
       "      <td>Chen Aircrafts LLC</td>\n",
       "      <td>4</td>\n",
       "      <td>2 km NE of Atlanta-Fulton County Airport, GA (...</td>\n",
       "      <td>w/o</td>\n",
       "    </tr>\n",
       "    <tr>\n",
       "      <th>2496</th>\n",
       "      <td>1246</td>\n",
       "      <td>22 Dec 2018</td>\n",
       "      <td>PZL-Mielec M28 Skytruck</td>\n",
       "      <td>GNB-96107</td>\n",
       "      <td>Guardia Nacional Bolivariana de Venezuela - GNBV</td>\n",
       "      <td>0</td>\n",
       "      <td>Kamarata Airport (KTV)</td>\n",
       "      <td>sub</td>\n",
       "    </tr>\n",
       "    <tr>\n",
       "      <th>2497</th>\n",
       "      <td>1247</td>\n",
       "      <td>24 Dec 2018</td>\n",
       "      <td>Antonov An-26B</td>\n",
       "      <td>9T-TAB</td>\n",
       "      <td>Air Force of the Democratic Republic of the Congo</td>\n",
       "      <td>0</td>\n",
       "      <td>Beni Airport (BNC)</td>\n",
       "      <td>w/o</td>\n",
       "    </tr>\n",
       "    <tr>\n",
       "      <th>2498</th>\n",
       "      <td>1248</td>\n",
       "      <td>31 Dec 2018</td>\n",
       "      <td>Boeing 757-2B7 (WL)</td>\n",
       "      <td>N938UW</td>\n",
       "      <td>American Airlines</td>\n",
       "      <td>0</td>\n",
       "      <td>Charlotte-Douglas International Airport, NC (C...</td>\n",
       "      <td>sub</td>\n",
       "    </tr>\n",
       "    <tr>\n",
       "      <th>2499</th>\n",
       "      <td>1249</td>\n",
       "      <td>unk. date 2018</td>\n",
       "      <td>Rockwell Sabreliner 80</td>\n",
       "      <td>N337KL</td>\n",
       "      <td>private</td>\n",
       "      <td>0</td>\n",
       "      <td>Eugene Airport, OR (EUG)</td>\n",
       "      <td>sub</td>\n",
       "    </tr>\n",
       "  </tbody>\n",
       "</table>\n",
       "<p>2500 rows × 8 columns</p>\n",
       "</div>"
      ],
      "text/plain": [
       "      Unnamed: 0        acc.date                                 type  \\\n",
       "0              0      3 Jan 2022  British Aerospace 4121 Jetstream 41   \n",
       "1              1      4 Jan 2022  British Aerospace 3101 Jetstream 31   \n",
       "2              2      5 Jan 2022                       Boeing 737-4H6   \n",
       "3              3      8 Jan 2022                  Tupolev Tu-204-100C   \n",
       "4              4     12 Jan 2022        Beechcraft 200 Super King Air   \n",
       "...          ...             ...                                  ...   \n",
       "2495        1245     20 Dec 2018                Cessna 560 Citation V   \n",
       "2496        1246     22 Dec 2018              PZL-Mielec M28 Skytruck   \n",
       "2497        1247     24 Dec 2018                       Antonov An-26B   \n",
       "2498        1248     31 Dec 2018                  Boeing 757-2B7 (WL)   \n",
       "2499        1249  unk. date 2018               Rockwell Sabreliner 80   \n",
       "\n",
       "            reg                                           operator fat  \\\n",
       "0        ZS-NRJ                                         SA Airlink   0   \n",
       "1        HR-AYY      LANHSA - Línea Aérea Nacional de Honduras S.A   0   \n",
       "2        EP-CAP                                   Caspian Airlines   0   \n",
       "3      RA-64032                           Cainiao, opb Aviastar-TU   0   \n",
       "4           NaN                                            private   0   \n",
       "...         ...                                                ...  ..   \n",
       "2495     N188CW                                 Chen Aircrafts LLC   4   \n",
       "2496  GNB-96107   Guardia Nacional Bolivariana de Venezuela - GNBV   0   \n",
       "2497     9T-TAB  Air Force of the Democratic Republic of the Congo   0   \n",
       "2498     N938UW                                  American Airlines   0   \n",
       "2499     N337KL                                            private   0   \n",
       "\n",
       "                                               location  dmg  \n",
       "0                             near Venetia Mine Airport  sub  \n",
       "1     Roatán-Juan Manuel Gálvez International Airpor...  sub  \n",
       "2                 Isfahan-Shahid Beheshti Airport (IFN)  sub  \n",
       "3         Hangzhou Xiaoshan International Airport (HGH)  w/o  \n",
       "4        Machakilha, Toledo District, Grahem Creek area  w/o  \n",
       "...                                                 ...  ...  \n",
       "2495  2 km NE of Atlanta-Fulton County Airport, GA (...  w/o  \n",
       "2496                             Kamarata Airport (KTV)  sub  \n",
       "2497                                 Beni Airport (BNC)  w/o  \n",
       "2498  Charlotte-Douglas International Airport, NC (C...  sub  \n",
       "2499                           Eugene Airport, OR (EUG)  sub  \n",
       "\n",
       "[2500 rows x 8 columns]"
      ]
     },
     "execution_count": 4,
     "metadata": {},
     "output_type": "execute_result"
    }
   ],
   "source": [
    "df=pd.read_csv(\"flight.csv\")\n",
    "# droped unnecessary column\n",
    "df"
   ]
  },
  {
   "cell_type": "markdown",
   "id": "42d4e853-a64d-443b-9fe5-abfff9415cc0",
   "metadata": {},
   "source": [
    "# Perfoming EDA Check"
   ]
  },
  {
   "cell_type": "code",
   "execution_count": 6,
   "id": "03a5401e-5564-4d4c-984d-2b176f6955ce",
   "metadata": {},
   "outputs": [
    {
     "name": "stdout",
     "output_type": "stream",
     "text": [
      "<class 'pandas.core.frame.DataFrame'>\n",
      "RangeIndex: 2500 entries, 0 to 2499\n",
      "Data columns (total 8 columns):\n",
      " #   Column      Non-Null Count  Dtype \n",
      "---  ------      --------------  ----- \n",
      " 0   Unnamed: 0  2500 non-null   int64 \n",
      " 1   acc.date    2500 non-null   object\n",
      " 2   type        2500 non-null   object\n",
      " 3   reg         2408 non-null   object\n",
      " 4   operator    2486 non-null   object\n",
      " 5   fat         2488 non-null   object\n",
      " 6   location    2500 non-null   object\n",
      " 7   dmg         2500 non-null   object\n",
      "dtypes: int64(1), object(7)\n",
      "memory usage: 156.4+ KB\n"
     ]
    }
   ],
   "source": [
    "df.info()"
   ]
  },
  {
   "cell_type": "code",
   "execution_count": 7,
   "id": "24d3560a-c520-4106-8236-85cb4188f8c0",
   "metadata": {},
   "outputs": [
    {
     "data": {
      "text/html": [
       "<div>\n",
       "<style scoped>\n",
       "    .dataframe tbody tr th:only-of-type {\n",
       "        vertical-align: middle;\n",
       "    }\n",
       "\n",
       "    .dataframe tbody tr th {\n",
       "        vertical-align: top;\n",
       "    }\n",
       "\n",
       "    .dataframe thead th {\n",
       "        text-align: right;\n",
       "    }\n",
       "</style>\n",
       "<table border=\"1\" class=\"dataframe\">\n",
       "  <thead>\n",
       "    <tr style=\"text-align: right;\">\n",
       "      <th></th>\n",
       "      <th>Unnamed: 0</th>\n",
       "    </tr>\n",
       "  </thead>\n",
       "  <tbody>\n",
       "    <tr>\n",
       "      <th>count</th>\n",
       "      <td>2500.000000</td>\n",
       "    </tr>\n",
       "    <tr>\n",
       "      <th>mean</th>\n",
       "      <td>624.500000</td>\n",
       "    </tr>\n",
       "    <tr>\n",
       "      <th>std</th>\n",
       "      <td>360.915993</td>\n",
       "    </tr>\n",
       "    <tr>\n",
       "      <th>min</th>\n",
       "      <td>0.000000</td>\n",
       "    </tr>\n",
       "    <tr>\n",
       "      <th>25%</th>\n",
       "      <td>312.000000</td>\n",
       "    </tr>\n",
       "    <tr>\n",
       "      <th>50%</th>\n",
       "      <td>624.500000</td>\n",
       "    </tr>\n",
       "    <tr>\n",
       "      <th>75%</th>\n",
       "      <td>937.000000</td>\n",
       "    </tr>\n",
       "    <tr>\n",
       "      <th>max</th>\n",
       "      <td>1249.000000</td>\n",
       "    </tr>\n",
       "  </tbody>\n",
       "</table>\n",
       "</div>"
      ],
      "text/plain": [
       "        Unnamed: 0\n",
       "count  2500.000000\n",
       "mean    624.500000\n",
       "std     360.915993\n",
       "min       0.000000\n",
       "25%     312.000000\n",
       "50%     624.500000\n",
       "75%     937.000000\n",
       "max    1249.000000"
      ]
     },
     "execution_count": 7,
     "metadata": {},
     "output_type": "execute_result"
    }
   ],
   "source": [
    "df.describe()"
   ]
  },
  {
   "cell_type": "code",
   "execution_count": 8,
   "id": "a6934b2e-9f2e-4202-8989-2071e8717596",
   "metadata": {},
   "outputs": [
    {
     "data": {
      "text/plain": [
       "(2500, 8)"
      ]
     },
     "execution_count": 8,
     "metadata": {},
     "output_type": "execute_result"
    }
   ],
   "source": [
    "df.shape"
   ]
  },
  {
   "cell_type": "code",
   "execution_count": 9,
   "id": "5f0b534a-3da9-4ec1-9a0f-9d29fc816c67",
   "metadata": {},
   "outputs": [
    {
     "data": {
      "text/plain": [
       "Index(['Unnamed: 0', 'acc.date', 'type', 'reg', 'operator', 'fat', 'location',\n",
       "       'dmg'],\n",
       "      dtype='object')"
      ]
     },
     "execution_count": 9,
     "metadata": {},
     "output_type": "execute_result"
    }
   ],
   "source": [
    "df.columns"
   ]
  },
  {
   "cell_type": "code",
   "execution_count": 10,
   "id": "ff5d4b65-6256-4327-9cde-6d82343e044d",
   "metadata": {},
   "outputs": [
    {
     "data": {
      "text/plain": [
       "Unnamed: 0     0\n",
       "acc.date       0\n",
       "type           0\n",
       "reg           92\n",
       "operator      14\n",
       "fat           12\n",
       "location       0\n",
       "dmg            0\n",
       "dtype: int64"
      ]
     },
     "execution_count": 10,
     "metadata": {},
     "output_type": "execute_result"
    }
   ],
   "source": [
    "df.isnull().sum()"
   ]
  },
  {
   "cell_type": "code",
   "execution_count": 11,
   "id": "08b67b7f-2323-4b52-b4d8-c35bc03850d3",
   "metadata": {},
   "outputs": [],
   "source": [
    "col=df.columns"
   ]
  },
  {
   "cell_type": "code",
   "execution_count": 12,
   "id": "9f4a4bd3-a737-4c86-8c00-610d34e95b18",
   "metadata": {
    "scrolled": true
   },
   "outputs": [
    {
     "name": "stdout",
     "output_type": "stream",
     "text": [
      "--------------------\n",
      "                    \n",
      "Unnamed: 0\n",
      "0       2\n",
      "830     2\n",
      "837     2\n",
      "836     2\n",
      "835     2\n",
      "       ..\n",
      "416     2\n",
      "415     2\n",
      "414     2\n",
      "413     2\n",
      "1249    2\n",
      "Name: count, Length: 1250, dtype: int64\n",
      "--------------------\n",
      "                    \n",
      "--------------------\n",
      "                    \n",
      "acc.date\n",
      "3 Mar 2020        24\n",
      "15 Apr 2018       12\n",
      "24 Feb 2022       12\n",
      "4 Apr 2018        10\n",
      "11 Sep 2019       10\n",
      "                  ..\n",
      "12 Jan 2020        2\n",
      "13 Jan 2020        2\n",
      "19 Jan 2020        2\n",
      "24 Jan 2020        2\n",
      "unk. date 2018     2\n",
      "Name: count, Length: 871, dtype: int64\n",
      "--------------------\n",
      "                    \n",
      "--------------------\n",
      "                    \n",
      "type\n",
      "Cessna 208B Grand Caravan                   114\n",
      "Antonov An-2R                                58\n",
      "Beechcraft 200 Super King Air                58\n",
      "de Havilland Canada DHC-6 Twin Otter 300     34\n",
      "Cessna 208 Caravan I                         30\n",
      "                                           ... \n",
      "Boeing 767-375ER                              2\n",
      "Boeing 747-412 (BCF)                          2\n",
      "Boeing 747-412F (SCD)                         2\n",
      "Boeing 737-76N (WL)                           2\n",
      "Rockwell Sabreliner 80                        2\n",
      "Name: count, Length: 523, dtype: int64\n",
      "--------------------\n",
      "                    \n",
      "--------------------\n",
      "                    \n",
      "reg\n",
      "unreg.     6\n",
      "C-FKWE     4\n",
      "OB-2152    4\n",
      "N817NW     4\n",
      "5Y-SAV     4\n",
      "          ..\n",
      "N705CK     2\n",
      "N71VT      2\n",
      "PR-YRH     2\n",
      "N743QS     2\n",
      "N337KL     2\n",
      "Name: count, Length: 1194, dtype: int64\n",
      "--------------------\n",
      "                    \n",
      "--------------------\n",
      "                    \n",
      "operator\n",
      "private                                             206\n",
      "American Airlines                                    44\n",
      "Delta Air Lines                                      44\n",
      "Unknown                                              38\n",
      "United Airlines                                      36\n",
      "                                                   ... \n",
      "Helidosa Aviation Group                               2\n",
      "Cottingham & Butler Insurance Services                2\n",
      "Malu Aviation                                         2\n",
      "Aeromedevac Air Ambulance                             2\n",
      "Guardia Nacional Bolivariana de Venezuela - GNBV      2\n",
      "Name: count, Length: 827, dtype: int64\n",
      "--------------------\n",
      "                    \n",
      "--------------------\n",
      "                    \n",
      "fat\n",
      "0       2068\n",
      "1         86\n",
      "2         70\n",
      "4         38\n",
      "3         38\n",
      "5         24\n",
      "0+1       16\n",
      "6         14\n",
      "7         12\n",
      "9         12\n",
      "8          8\n",
      "11         8\n",
      "10         8\n",
      "0+2        6\n",
      "12         6\n",
      "15         4\n",
      "18         4\n",
      "14         4\n",
      "13         4\n",
      "20         4\n",
      "39         2\n",
      "66         2\n",
      "1+2        2\n",
      "38         2\n",
      "51         2\n",
      "21+6       2\n",
      "257        2\n",
      "5+14       2\n",
      "1+5        2\n",
      "112        2\n",
      "41         2\n",
      "71         2\n",
      "21         2\n",
      "157        2\n",
      "26         2\n",
      "97+1       2\n",
      "176        2\n",
      "1+1        2\n",
      "16         2\n",
      "28         2\n",
      "50+3       2\n",
      "62         2\n",
      "5+1        2\n",
      "19         2\n",
      "132        2\n",
      "22         2\n",
      "189        2\n",
      "Name: count, dtype: int64\n",
      "--------------------\n",
      "                    \n",
      "--------------------\n",
      "                    \n",
      "location\n",
      "Chicago-O'Hare International Airport, IL (ORD/KORD)    28\n",
      "Nashville-John C. Tune Airport, TN (KJWN)              24\n",
      "Denver International Airport, CO (DEN/KDEN)            16\n",
      "Vancouver International Airport, BC (YVR/CYVR)         14\n",
      "Houston-William P. Hobby Airport, TX (HOU)             14\n",
      "                                                       ..\n",
      "Dubuque, IA                                             2\n",
      "Cancún Airport (CUN/MMUN)                               2\n",
      "Fulshear, TX                                            2\n",
      "14,8 km NW of Shabunda                                  2\n",
      "Beni Airport (BNC)                                      2\n",
      "Name: count, Length: 1059, dtype: int64\n",
      "--------------------\n",
      "                    \n",
      "--------------------\n",
      "                    \n",
      "dmg\n",
      "sub    1330\n",
      "w/o     702\n",
      "non     338\n",
      "min      98\n",
      "unk      30\n",
      "mis       2\n",
      "Name: count, dtype: int64\n",
      "--------------------\n",
      "                    \n"
     ]
    }
   ],
   "source": [
    "for i in col: #checking unique values \n",
    "    print(\"-\"*20)\n",
    "    print(\" \"*20)\n",
    "    print(df[i].value_counts())\n",
    "    print(\"-\"*20)\n",
    "    print(\" \"*20)"
   ]
  },
  {
   "cell_type": "code",
   "execution_count": 13,
   "id": "c5356b41-c7d9-400e-a056-b1bbe9a9f196",
   "metadata": {},
   "outputs": [
    {
     "data": {
      "text/plain": [
       "1250"
      ]
     },
     "execution_count": 13,
     "metadata": {},
     "output_type": "execute_result"
    }
   ],
   "source": [
    "df.duplicated().sum()"
   ]
  },
  {
   "cell_type": "code",
   "execution_count": 14,
   "id": "eb116819-c34c-41a1-ac48-9c9c2ee5306d",
   "metadata": {
    "scrolled": true
   },
   "outputs": [
    {
     "data": {
      "text/plain": [
       "Index([1250, 1251, 1252, 1253, 1254, 1255, 1256, 1257, 1258, 1259,\n",
       "       ...\n",
       "       2490, 2491, 2492, 2493, 2494, 2495, 2496, 2497, 2498, 2499],\n",
       "      dtype='int64', length=1250)"
      ]
     },
     "execution_count": 14,
     "metadata": {},
     "output_type": "execute_result"
    }
   ],
   "source": [
    "df[df.duplicated()].index"
   ]
  },
  {
   "cell_type": "markdown",
   "id": "2457e38f-010d-4299-acf3-d1fed7a45cb7",
   "metadata": {},
   "source": [
    "# Data Preprocessing"
   ]
  },
  {
   "cell_type": "markdown",
   "id": "f0ade6d5-56a9-46b3-8899-64ab79dff097",
   "metadata": {},
   "source": [
    "### Dropped unwanted columns"
   ]
  },
  {
   "cell_type": "code",
   "execution_count": 17,
   "id": "221e4ddd-9e6e-4740-a960-3dd6f73be384",
   "metadata": {},
   "outputs": [],
   "source": [
    "df.drop(\"Unnamed: 0\",axis=1,inplace=True) "
   ]
  },
  {
   "cell_type": "markdown",
   "id": "e042747b-eaca-434e-9c42-5fd4cfd1c2c3",
   "metadata": {},
   "source": [
    "### Handling duplicated values"
   ]
  },
  {
   "cell_type": "code",
   "execution_count": 19,
   "id": "e81aaa6f-4ada-41fe-b314-e553c51804b7",
   "metadata": {},
   "outputs": [],
   "source": [
    "df.drop_duplicates(inplace=True)"
   ]
  },
  {
   "cell_type": "code",
   "execution_count": 20,
   "id": "401a137d-cf90-4d17-b049-9a82eb0c3a85",
   "metadata": {},
   "outputs": [
    {
     "data": {
      "text/plain": [
       "0"
      ]
     },
     "execution_count": 20,
     "metadata": {},
     "output_type": "execute_result"
    }
   ],
   "source": [
    "df.duplicated().sum()#removed all duplicated values"
   ]
  },
  {
   "cell_type": "markdown",
   "id": "836c49a9-1ad9-42e9-aeaa-e2b36f84eb44",
   "metadata": {},
   "source": [
    "### Handling missing value"
   ]
  },
  {
   "cell_type": "code",
   "execution_count": 22,
   "id": "8f9d7d62-ca7c-44ff-9eb0-ca8e8258b1ee",
   "metadata": {},
   "outputs": [],
   "source": [
    "na_values=[\"reg\",\"operator\"]"
   ]
  },
  {
   "cell_type": "code",
   "execution_count": 23,
   "id": "b84dad61-f79b-462e-983e-6418e58ac60b",
   "metadata": {},
   "outputs": [],
   "source": [
    "for i in na_values:\n",
    "    df[i]=df[i].fillna(\"others\")"
   ]
  },
  {
   "cell_type": "markdown",
   "id": "0f595f80-e64e-4533-8c5d-3fabc7c75a0a",
   "metadata": {},
   "source": [
    "### Simplify damage"
   ]
  },
  {
   "cell_type": "code",
   "execution_count": 25,
   "id": "e19622a0-8352-4544-a8c9-0fcbb85e8e08",
   "metadata": {},
   "outputs": [],
   "source": [
    "low_damage = ['non', 'min']\n",
    "mid_damage = ['sub']\n",
    "high_damage = ['w/o']"
   ]
  },
  {
   "cell_type": "code",
   "execution_count": 26,
   "id": "d2833f70-e506-4005-8bea-6ce66f725ae0",
   "metadata": {},
   "outputs": [],
   "source": [
    "def simplify_dmg(val):#simplified the damage levels into four types\n",
    "    if val in ['non', 'min']:\n",
    "        return 'low'\n",
    "    elif val == 'sub':\n",
    "        return 'medium'\n",
    "    elif val == 'w/o':\n",
    "        return 'high'\n",
    "    else:\n",
    "        return 'unknown'\n",
    "\n",
    "df['dmg_level'] = df['dmg'].apply(simplify_dmg)"
   ]
  },
  {
   "cell_type": "code",
   "execution_count": 27,
   "id": "f0830e23-3299-4e04-b227-b641f73b067b",
   "metadata": {},
   "outputs": [
    {
     "data": {
      "text/plain": [
       "dmg_level\n",
       "medium     665\n",
       "high       351\n",
       "low        218\n",
       "unknown     16\n",
       "Name: count, dtype: int64"
      ]
     },
     "execution_count": 27,
     "metadata": {},
     "output_type": "execute_result"
    }
   ],
   "source": [
    "df['dmg_level'].value_counts()"
   ]
  },
  {
   "cell_type": "code",
   "execution_count": 28,
   "id": "a93e2c64-3891-4485-b276-4d5a1b9d1893",
   "metadata": {},
   "outputs": [],
   "source": [
    "df.drop(df[df[\"dmg_level\"] == \"unknown\"].index, axis=0, inplace=True)#dropped the unknown damage\n",
    "df.drop(\"dmg\",axis=1,inplace=True)"
   ]
  },
  {
   "cell_type": "code",
   "execution_count": 29,
   "id": "0219f9aa-8a26-4faf-b8f1-61f34e384dc4",
   "metadata": {},
   "outputs": [
    {
     "data": {
      "text/plain": [
       "dmg_level\n",
       "medium    665\n",
       "high      351\n",
       "low       218\n",
       "Name: count, dtype: int64"
      ]
     },
     "execution_count": 29,
     "metadata": {},
     "output_type": "execute_result"
    }
   ],
   "source": [
    "df['dmg_level'].value_counts()"
   ]
  },
  {
   "cell_type": "markdown",
   "id": "ccd1e32d-0d31-4fff-8260-7de40e8a3f00",
   "metadata": {},
   "source": [
    "### Cleaning inconsistent entries like \"1+2\" in the fatality column"
   ]
  },
  {
   "cell_type": "code",
   "execution_count": 31,
   "id": "81589c3c-d092-4aca-ae93-a134f908d71f",
   "metadata": {},
   "outputs": [],
   "source": [
    "def convert_sum(x):\n",
    "    if pd.isna(x): \n",
    "        return None\n",
    "    try:\n",
    "        parts = str(x).split('+')                    \n",
    "        return sum(int(i) for i in parts)             \n",
    "    except ValueError:\n",
    "        return None  \n",
    "df['fat'] = df['fat'].apply(convert_sum)"
   ]
  },
  {
   "cell_type": "code",
   "execution_count": 32,
   "id": "1be891a9-510e-4bcc-9a95-9dd40c445f1a",
   "metadata": {},
   "outputs": [],
   "source": [
    "df['fat'] = pd.to_numeric(df['fat'], errors='coerce') #to covert it as numeric"
   ]
  },
  {
   "cell_type": "code",
   "execution_count": 33,
   "id": "a205da3e-5662-4a21-8011-904e8a831a41",
   "metadata": {},
   "outputs": [],
   "source": [
    "df['fat'].fillna(df['fat'].median(), inplace=True)#fill null values with median because of skewness"
   ]
  },
  {
   "cell_type": "code",
   "execution_count": 34,
   "id": "3acfdbdd-6b63-4446-82bb-d061eadd1d4c",
   "metadata": {},
   "outputs": [],
   "source": [
    "df['reg'].fillna(\"others\", inplace=True)#fill null values with string \"others\""
   ]
  },
  {
   "cell_type": "code",
   "execution_count": 35,
   "id": "3646de83-6b43-4127-bdf2-994ace10025a",
   "metadata": {},
   "outputs": [],
   "source": [
    "df['operator'].fillna(\"others\", inplace=True)#fill null values with string \"others\""
   ]
  },
  {
   "cell_type": "code",
   "execution_count": 36,
   "id": "304f0263-cf74-44f2-9451-bd74d6169bbf",
   "metadata": {},
   "outputs": [
    {
     "data": {
      "text/plain": [
       "acc.date     0\n",
       "type         0\n",
       "reg          0\n",
       "operator     0\n",
       "fat          0\n",
       "location     0\n",
       "dmg_level    0\n",
       "dtype: int64"
      ]
     },
     "execution_count": 36,
     "metadata": {},
     "output_type": "execute_result"
    }
   ],
   "source": [
    "df.isnull().sum()#checking whether it has still null values present"
   ]
  },
  {
   "cell_type": "code",
   "execution_count": 37,
   "id": "30d949fc-4f68-4235-bdd2-6003bc6e79de",
   "metadata": {},
   "outputs": [
    {
     "data": {
      "text/html": [
       "<div>\n",
       "<style scoped>\n",
       "    .dataframe tbody tr th:only-of-type {\n",
       "        vertical-align: middle;\n",
       "    }\n",
       "\n",
       "    .dataframe tbody tr th {\n",
       "        vertical-align: top;\n",
       "    }\n",
       "\n",
       "    .dataframe thead th {\n",
       "        text-align: right;\n",
       "    }\n",
       "</style>\n",
       "<table border=\"1\" class=\"dataframe\">\n",
       "  <thead>\n",
       "    <tr style=\"text-align: right;\">\n",
       "      <th></th>\n",
       "      <th>acc.date</th>\n",
       "      <th>type</th>\n",
       "      <th>reg</th>\n",
       "      <th>operator</th>\n",
       "      <th>fat</th>\n",
       "      <th>location</th>\n",
       "      <th>dmg_level</th>\n",
       "    </tr>\n",
       "  </thead>\n",
       "  <tbody>\n",
       "    <tr>\n",
       "      <th>0</th>\n",
       "      <td>3 Jan 2022</td>\n",
       "      <td>British Aerospace 4121 Jetstream 41</td>\n",
       "      <td>ZS-NRJ</td>\n",
       "      <td>SA Airlink</td>\n",
       "      <td>0.0</td>\n",
       "      <td>near Venetia Mine Airport</td>\n",
       "      <td>medium</td>\n",
       "    </tr>\n",
       "    <tr>\n",
       "      <th>1</th>\n",
       "      <td>4 Jan 2022</td>\n",
       "      <td>British Aerospace 3101 Jetstream 31</td>\n",
       "      <td>HR-AYY</td>\n",
       "      <td>LANHSA - Línea Aérea Nacional de Honduras S.A</td>\n",
       "      <td>0.0</td>\n",
       "      <td>Roatán-Juan Manuel Gálvez International Airpor...</td>\n",
       "      <td>medium</td>\n",
       "    </tr>\n",
       "    <tr>\n",
       "      <th>2</th>\n",
       "      <td>5 Jan 2022</td>\n",
       "      <td>Boeing 737-4H6</td>\n",
       "      <td>EP-CAP</td>\n",
       "      <td>Caspian Airlines</td>\n",
       "      <td>0.0</td>\n",
       "      <td>Isfahan-Shahid Beheshti Airport (IFN)</td>\n",
       "      <td>medium</td>\n",
       "    </tr>\n",
       "    <tr>\n",
       "      <th>3</th>\n",
       "      <td>8 Jan 2022</td>\n",
       "      <td>Tupolev Tu-204-100C</td>\n",
       "      <td>RA-64032</td>\n",
       "      <td>Cainiao, opb Aviastar-TU</td>\n",
       "      <td>0.0</td>\n",
       "      <td>Hangzhou Xiaoshan International Airport (HGH)</td>\n",
       "      <td>high</td>\n",
       "    </tr>\n",
       "    <tr>\n",
       "      <th>4</th>\n",
       "      <td>12 Jan 2022</td>\n",
       "      <td>Beechcraft 200 Super King Air</td>\n",
       "      <td>others</td>\n",
       "      <td>private</td>\n",
       "      <td>0.0</td>\n",
       "      <td>Machakilha, Toledo District, Grahem Creek area</td>\n",
       "      <td>high</td>\n",
       "    </tr>\n",
       "    <tr>\n",
       "      <th>...</th>\n",
       "      <td>...</td>\n",
       "      <td>...</td>\n",
       "      <td>...</td>\n",
       "      <td>...</td>\n",
       "      <td>...</td>\n",
       "      <td>...</td>\n",
       "      <td>...</td>\n",
       "    </tr>\n",
       "    <tr>\n",
       "      <th>1245</th>\n",
       "      <td>20 Dec 2018</td>\n",
       "      <td>Cessna 560 Citation V</td>\n",
       "      <td>N188CW</td>\n",
       "      <td>Chen Aircrafts LLC</td>\n",
       "      <td>4.0</td>\n",
       "      <td>2 km NE of Atlanta-Fulton County Airport, GA (...</td>\n",
       "      <td>high</td>\n",
       "    </tr>\n",
       "    <tr>\n",
       "      <th>1246</th>\n",
       "      <td>22 Dec 2018</td>\n",
       "      <td>PZL-Mielec M28 Skytruck</td>\n",
       "      <td>GNB-96107</td>\n",
       "      <td>Guardia Nacional Bolivariana de Venezuela - GNBV</td>\n",
       "      <td>0.0</td>\n",
       "      <td>Kamarata Airport (KTV)</td>\n",
       "      <td>medium</td>\n",
       "    </tr>\n",
       "    <tr>\n",
       "      <th>1247</th>\n",
       "      <td>24 Dec 2018</td>\n",
       "      <td>Antonov An-26B</td>\n",
       "      <td>9T-TAB</td>\n",
       "      <td>Air Force of the Democratic Republic of the Congo</td>\n",
       "      <td>0.0</td>\n",
       "      <td>Beni Airport (BNC)</td>\n",
       "      <td>high</td>\n",
       "    </tr>\n",
       "    <tr>\n",
       "      <th>1248</th>\n",
       "      <td>31 Dec 2018</td>\n",
       "      <td>Boeing 757-2B7 (WL)</td>\n",
       "      <td>N938UW</td>\n",
       "      <td>American Airlines</td>\n",
       "      <td>0.0</td>\n",
       "      <td>Charlotte-Douglas International Airport, NC (C...</td>\n",
       "      <td>medium</td>\n",
       "    </tr>\n",
       "    <tr>\n",
       "      <th>1249</th>\n",
       "      <td>unk. date 2018</td>\n",
       "      <td>Rockwell Sabreliner 80</td>\n",
       "      <td>N337KL</td>\n",
       "      <td>private</td>\n",
       "      <td>0.0</td>\n",
       "      <td>Eugene Airport, OR (EUG)</td>\n",
       "      <td>medium</td>\n",
       "    </tr>\n",
       "  </tbody>\n",
       "</table>\n",
       "<p>1234 rows × 7 columns</p>\n",
       "</div>"
      ],
      "text/plain": [
       "            acc.date                                 type        reg  \\\n",
       "0         3 Jan 2022  British Aerospace 4121 Jetstream 41     ZS-NRJ   \n",
       "1         4 Jan 2022  British Aerospace 3101 Jetstream 31     HR-AYY   \n",
       "2         5 Jan 2022                       Boeing 737-4H6     EP-CAP   \n",
       "3         8 Jan 2022                  Tupolev Tu-204-100C   RA-64032   \n",
       "4        12 Jan 2022        Beechcraft 200 Super King Air     others   \n",
       "...              ...                                  ...        ...   \n",
       "1245     20 Dec 2018                Cessna 560 Citation V     N188CW   \n",
       "1246     22 Dec 2018              PZL-Mielec M28 Skytruck  GNB-96107   \n",
       "1247     24 Dec 2018                       Antonov An-26B     9T-TAB   \n",
       "1248     31 Dec 2018                  Boeing 757-2B7 (WL)     N938UW   \n",
       "1249  unk. date 2018               Rockwell Sabreliner 80     N337KL   \n",
       "\n",
       "                                               operator  fat  \\\n",
       "0                                            SA Airlink  0.0   \n",
       "1         LANHSA - Línea Aérea Nacional de Honduras S.A  0.0   \n",
       "2                                      Caspian Airlines  0.0   \n",
       "3                              Cainiao, opb Aviastar-TU  0.0   \n",
       "4                                               private  0.0   \n",
       "...                                                 ...  ...   \n",
       "1245                                 Chen Aircrafts LLC  4.0   \n",
       "1246   Guardia Nacional Bolivariana de Venezuela - GNBV  0.0   \n",
       "1247  Air Force of the Democratic Republic of the Congo  0.0   \n",
       "1248                                  American Airlines  0.0   \n",
       "1249                                            private  0.0   \n",
       "\n",
       "                                               location dmg_level  \n",
       "0                             near Venetia Mine Airport    medium  \n",
       "1     Roatán-Juan Manuel Gálvez International Airpor...    medium  \n",
       "2                 Isfahan-Shahid Beheshti Airport (IFN)    medium  \n",
       "3         Hangzhou Xiaoshan International Airport (HGH)      high  \n",
       "4        Machakilha, Toledo District, Grahem Creek area      high  \n",
       "...                                                 ...       ...  \n",
       "1245  2 km NE of Atlanta-Fulton County Airport, GA (...      high  \n",
       "1246                             Kamarata Airport (KTV)    medium  \n",
       "1247                                 Beni Airport (BNC)      high  \n",
       "1248  Charlotte-Douglas International Airport, NC (C...    medium  \n",
       "1249                           Eugene Airport, OR (EUG)    medium  \n",
       "\n",
       "[1234 rows x 7 columns]"
      ]
     },
     "execution_count": 37,
     "metadata": {},
     "output_type": "execute_result"
    }
   ],
   "source": [
    "df"
   ]
  },
  {
   "cell_type": "markdown",
   "id": "666ff836-1dd8-42aa-866a-53a86bedf688",
   "metadata": {},
   "source": [
    "# Exporting the cleaned data"
   ]
  },
  {
   "cell_type": "code",
   "execution_count": 39,
   "id": "c6f47d73-e4da-409a-b0dd-811ea2cb6a7e",
   "metadata": {},
   "outputs": [],
   "source": [
    "df.to_csv(\"cleaned_flight_data.csv\", index=False,encoding='utf-8')"
   ]
  },
  {
   "cell_type": "code",
   "execution_count": 70,
   "id": "91e4b2b4-b652-4f2d-9829-c92c7fd9e269",
   "metadata": {},
   "outputs": [
    {
     "name": "stdout",
     "output_type": "stream",
     "text": [
      "<class 'pandas.core.frame.DataFrame'>\n",
      "Index: 1234 entries, 0 to 1249\n",
      "Data columns (total 7 columns):\n",
      " #   Column     Non-Null Count  Dtype  \n",
      "---  ------     --------------  -----  \n",
      " 0   acc.date   1234 non-null   object \n",
      " 1   type       1234 non-null   object \n",
      " 2   reg        1234 non-null   object \n",
      " 3   operator   1234 non-null   object \n",
      " 4   fat        1234 non-null   float64\n",
      " 5   location   1234 non-null   object \n",
      " 6   dmg_level  1234 non-null   object \n",
      "dtypes: float64(1), object(6)\n",
      "memory usage: 77.1+ KB\n"
     ]
    }
   ],
   "source": [
    "df.info()"
   ]
  },
  {
   "cell_type": "code",
   "execution_count": null,
   "id": "0c6bfa53-1611-430e-a07e-17cdbe7d3706",
   "metadata": {},
   "outputs": [],
   "source": []
  }
 ],
 "metadata": {
  "kernelspec": {
   "display_name": "Python [conda env:base] *",
   "language": "python",
   "name": "conda-base-py"
  },
  "language_info": {
   "codemirror_mode": {
    "name": "ipython",
    "version": 3
   },
   "file_extension": ".py",
   "mimetype": "text/x-python",
   "name": "python",
   "nbconvert_exporter": "python",
   "pygments_lexer": "ipython3",
   "version": "3.12.7"
  }
 },
 "nbformat": 4,
 "nbformat_minor": 5
}
